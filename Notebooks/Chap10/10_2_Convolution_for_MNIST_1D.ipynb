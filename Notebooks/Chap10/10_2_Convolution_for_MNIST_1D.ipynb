{
  "nbformat": 4,
  "nbformat_minor": 0,
  "metadata": {
    "colab": {
      "provenance": [],
      "include_colab_link": true
    },
    "kernelspec": {
      "name": "python3",
      "display_name": "Python 3"
    },
    "language_info": {
      "name": "python"
    }
  },
  "cells": [
    {
      "cell_type": "markdown",
      "metadata": {
        "id": "view-in-github",
        "colab_type": "text"
      },
      "source": [
        "<a href=\"https://colab.research.google.com/github/mauriciocele/understanding-deep-learning/blob/main/Notebooks/Chap10/10_2_Convolution_for_MNIST_1D.ipynb\" target=\"_parent\"><img src=\"https://colab.research.google.com/assets/colab-badge.svg\" alt=\"Open In Colab\"/></a>"
      ]
    },
    {
      "cell_type": "markdown",
      "source": [
        "# **Notebook 10.2: Convolution for MNIST-1D**\n",
        "\n",
        "This notebook investigates a 1D convolutional network for MNIST-1D as in figure 10.7 and 10.8a.\n",
        "\n",
        "Work through the cells below, running each cell in turn. In various places you will see the words \"TODO\". Follow the instructions at these places and make predictions about what is going to happen or write code to complete the functions.\n",
        "\n",
        "Contact me at udlbookmail@gmail.com if you find any mistakes or have any suggestions.\n",
        "\n"
      ],
      "metadata": {
        "id": "t9vk9Elugvmi"
      }
    },
    {
      "cell_type": "code",
      "source": [
        "# Run this if you're in a Colab to install MNIST 1D repository\n",
        "!pip install git+https://github.com/greydanus/mnist1d"
      ],
      "metadata": {
        "id": "D5yLObtZCi9J",
        "outputId": "7dc964d3-02c9-4a5f-ded4-f55fec02d4a6",
        "colab": {
          "base_uri": "https://localhost:8080/"
        }
      },
      "execution_count": 1,
      "outputs": [
        {
          "output_type": "stream",
          "name": "stdout",
          "text": [
            "Collecting git+https://github.com/greydanus/mnist1d\n",
            "  Cloning https://github.com/greydanus/mnist1d to /tmp/pip-req-build-cg2_129d\n",
            "  Running command git clone --filter=blob:none --quiet https://github.com/greydanus/mnist1d /tmp/pip-req-build-cg2_129d\n",
            "  Resolved https://github.com/greydanus/mnist1d to commit 7878d96082abd200c546a07a4101fa90b30fdf7e\n",
            "  Installing build dependencies ... \u001b[?25l\u001b[?25hdone\n",
            "  Getting requirements to build wheel ... \u001b[?25l\u001b[?25hdone\n",
            "  Preparing metadata (pyproject.toml) ... \u001b[?25l\u001b[?25hdone\n",
            "Requirement already satisfied: requests in /usr/local/lib/python3.11/dist-packages (from mnist1d==0.0.2.post16) (2.32.3)\n",
            "Requirement already satisfied: numpy in /usr/local/lib/python3.11/dist-packages (from mnist1d==0.0.2.post16) (2.0.2)\n",
            "Requirement already satisfied: matplotlib in /usr/local/lib/python3.11/dist-packages (from mnist1d==0.0.2.post16) (3.10.0)\n",
            "Requirement already satisfied: scipy in /usr/local/lib/python3.11/dist-packages (from mnist1d==0.0.2.post16) (1.15.3)\n",
            "Requirement already satisfied: contourpy>=1.0.1 in /usr/local/lib/python3.11/dist-packages (from matplotlib->mnist1d==0.0.2.post16) (1.3.2)\n",
            "Requirement already satisfied: cycler>=0.10 in /usr/local/lib/python3.11/dist-packages (from matplotlib->mnist1d==0.0.2.post16) (0.12.1)\n",
            "Requirement already satisfied: fonttools>=4.22.0 in /usr/local/lib/python3.11/dist-packages (from matplotlib->mnist1d==0.0.2.post16) (4.58.5)\n",
            "Requirement already satisfied: kiwisolver>=1.3.1 in /usr/local/lib/python3.11/dist-packages (from matplotlib->mnist1d==0.0.2.post16) (1.4.8)\n",
            "Requirement already satisfied: packaging>=20.0 in /usr/local/lib/python3.11/dist-packages (from matplotlib->mnist1d==0.0.2.post16) (24.2)\n",
            "Requirement already satisfied: pillow>=8 in /usr/local/lib/python3.11/dist-packages (from matplotlib->mnist1d==0.0.2.post16) (11.2.1)\n",
            "Requirement already satisfied: pyparsing>=2.3.1 in /usr/local/lib/python3.11/dist-packages (from matplotlib->mnist1d==0.0.2.post16) (3.2.3)\n",
            "Requirement already satisfied: python-dateutil>=2.7 in /usr/local/lib/python3.11/dist-packages (from matplotlib->mnist1d==0.0.2.post16) (2.9.0.post0)\n",
            "Requirement already satisfied: charset-normalizer<4,>=2 in /usr/local/lib/python3.11/dist-packages (from requests->mnist1d==0.0.2.post16) (3.4.2)\n",
            "Requirement already satisfied: idna<4,>=2.5 in /usr/local/lib/python3.11/dist-packages (from requests->mnist1d==0.0.2.post16) (3.10)\n",
            "Requirement already satisfied: urllib3<3,>=1.21.1 in /usr/local/lib/python3.11/dist-packages (from requests->mnist1d==0.0.2.post16) (2.4.0)\n",
            "Requirement already satisfied: certifi>=2017.4.17 in /usr/local/lib/python3.11/dist-packages (from requests->mnist1d==0.0.2.post16) (2025.7.14)\n",
            "Requirement already satisfied: six>=1.5 in /usr/local/lib/python3.11/dist-packages (from python-dateutil>=2.7->matplotlib->mnist1d==0.0.2.post16) (1.17.0)\n",
            "Building wheels for collected packages: mnist1d\n",
            "  Building wheel for mnist1d (pyproject.toml) ... \u001b[?25l\u001b[?25hdone\n",
            "  Created wheel for mnist1d: filename=mnist1d-0.0.2.post16-py3-none-any.whl size=14665 sha256=5e1cb43f460129b078281acf4ceb7fbc3e43f83570b43fc3f565e12dba92d59f\n",
            "  Stored in directory: /tmp/pip-ephem-wheel-cache-56ovgn_7/wheels/d6/38/42/3d2112bc7d915f6195254ac85eb761d922d1b18f52817aa8e2\n",
            "Successfully built mnist1d\n",
            "Installing collected packages: mnist1d\n",
            "Successfully installed mnist1d-0.0.2.post16\n"
          ]
        }
      ]
    },
    {
      "cell_type": "code",
      "source": [
        "import numpy as np\n",
        "import os\n",
        "import torch, torch.nn as nn\n",
        "from torch.utils.data import TensorDataset, DataLoader\n",
        "from torch.optim.lr_scheduler import StepLR\n",
        "import matplotlib.pyplot as plt\n",
        "import mnist1d\n",
        "import random"
      ],
      "metadata": {
        "id": "YrXWAH7sUWvU"
      },
      "execution_count": 2,
      "outputs": []
    },
    {
      "cell_type": "code",
      "source": [
        "args = mnist1d.data.get_dataset_args()\n",
        "data = mnist1d.data.get_dataset(args, path='./mnist1d_data.pkl', download=False, regenerate=False)\n",
        "\n",
        "# The training and test input and outputs are in\n",
        "# data['x'], data['y'], data['x_test'], and data['y_test']\n",
        "print(\"Examples in training set: {}\".format(len(data['y'])))\n",
        "print(\"Examples in test set: {}\".format(len(data['y_test'])))\n",
        "print(\"Length of each example: {}\".format(data['x'].shape[-1]))"
      ],
      "metadata": {
        "id": "twI72ZCrCt5z",
        "outputId": "97f2c53e-342d-4e87-80cd-90ec5ac297d1",
        "colab": {
          "base_uri": "https://localhost:8080/"
        }
      },
      "execution_count": 3,
      "outputs": [
        {
          "output_type": "stream",
          "name": "stdout",
          "text": [
            "Did or could not load data from ./mnist1d_data.pkl. Rebuilding dataset...\n",
            "Examples in training set: 4000\n",
            "Examples in test set: 1000\n",
            "Length of each example: 40\n"
          ]
        }
      ]
    },
    {
      "cell_type": "code",
      "source": [
        "# Load in the data\n",
        "train_data_x = data['x'].transpose()\n",
        "train_data_y = data['y']\n",
        "val_data_x = data['x_test'].transpose()\n",
        "val_data_y = data['y_test']\n",
        "# Print out sizes\n",
        "print(\"Train data: %d examples (columns), each of which has %d dimensions (rows)\"%((train_data_x.shape[1],train_data_x.shape[0])))\n",
        "print(\"Validation data: %d examples (columns), each of which has %d dimensions (rows)\"%((val_data_x.shape[1],val_data_x.shape[0])))"
      ],
      "metadata": {
        "id": "8bKADvLHbiV5",
        "outputId": "621bd4a3-6d4d-4e8a-e85e-f338d60e9be9",
        "colab": {
          "base_uri": "https://localhost:8080/"
        }
      },
      "execution_count": 4,
      "outputs": [
        {
          "output_type": "stream",
          "name": "stdout",
          "text": [
            "Train data: 4000 examples (columns), each of which has 40 dimensions (rows)\n",
            "Validation data: 1000 examples (columns), each of which has 40 dimensions (rows)\n"
          ]
        }
      ]
    },
    {
      "cell_type": "markdown",
      "source": [
        "Define the network"
      ],
      "metadata": {
        "id": "_sFvRDGrl4qe"
      }
    },
    {
      "cell_type": "code",
      "source": [
        "# There are 40 input dimensions and 10 output dimensions for this data\n",
        "# The inputs correspond to the 40 offsets in the MNIST1D template.\n",
        "D_i = 40\n",
        "# The outputs correspond to the 10 digits\n",
        "D_o = 10\n",
        "\n",
        "\n",
        "# TODO Create a model with the following layers\n",
        "# 1. Convolutional layer, (input=length 40 and 1 channel, kernel size 3, stride 2, padding=\"valid\", 15 output channels )\n",
        "# 2. ReLU\n",
        "# 3. Convolutional layer, (input=length 19 and 15 channels, kernel size 3, stride 2, padding=\"valid\", 15 output channels )\n",
        "# 4. ReLU\n",
        "# 5. Convolutional layer, (input=length 9 and 15 channels, kernel size 3, stride 2, padding=\"valid\", 15 output channels)\n",
        "# 6. ReLU\n",
        "# 7. Flatten (converts 4x15) to length 60\n",
        "# 8. Linear layer (input size = 60, output size = 10)\n",
        "# References:\n",
        "# https://pytorch.org/docs/1.13/generated/torch.nn.Conv1d.html?highlight=conv1d#torch.nn.Conv1d\n",
        "# https://pytorch.org/docs/stable/generated/torch.nn.Flatten.html\n",
        "# https://pytorch.org/docs/1.13/generated/torch.nn.Linear.html?highlight=linear#torch.nn.Linear\n",
        "\n",
        "# NOTE THAT THE CONVOLUTIONAL LAYERS NEED TO TAKE THE NUMBER OF INPUT CHANNELS AS A PARAMETER\n",
        "# AND NOT THE INPUT SIZE.\n",
        "\n",
        "# Replace the following function:\n",
        "# model = nn.Sequential(\n",
        "# nn.Flatten(),\n",
        "# nn.Linear(40, 100),\n",
        "# nn.ReLU(),\n",
        "# nn.Linear(100, 100),\n",
        "# nn.ReLU(),\n",
        "# nn.Linear(100, 10))\n",
        "\n",
        "model = nn.Sequential(\n",
        "    nn.Conv1d(in_channels=1, out_channels=15, kernel_size=3, stride=2, padding='valid'),\n",
        "    nn.ReLU(),\n",
        "    nn.Conv1d(in_channels=15, out_channels=15, kernel_size=3, stride=2, padding='valid'),\n",
        "    nn.ReLU(),\n",
        "    nn.Conv1d(in_channels=15, out_channels=15, kernel_size=3, stride=2, padding='valid'),\n",
        "    nn.ReLU(),\n",
        "    nn.Flatten(),\n",
        "    nn.Linear(60, D_o)  # Adjust input size to match the flattened size\n",
        ")\n"
      ],
      "metadata": {
        "id": "FslroPJJffrh"
      },
      "execution_count": 7,
      "outputs": []
    },
    {
      "cell_type": "code",
      "source": [
        "# He initialization of weights\n",
        "def weights_init(layer_in):\n",
        "  if isinstance(layer_in, nn.Linear):\n",
        "    nn.init.kaiming_uniform_(layer_in.weight)\n",
        "    layer_in.bias.data.fill_(0.0)"
      ],
      "metadata": {
        "id": "YgLaex1pfhqz"
      },
      "execution_count": 8,
      "outputs": []
    },
    {
      "cell_type": "code",
      "source": [
        "# choose cross entropy loss function (equation 5.24 in the loss notes)\n",
        "loss_function = nn.CrossEntropyLoss()\n",
        "# construct SGD optimizer and initialize learning rate and momentum\n",
        "optimizer = torch.optim.SGD(model.parameters(), lr = 0.05, momentum=0.9)\n",
        "# object that decreases learning rate by half every 20 epochs\n",
        "scheduler = StepLR(optimizer, step_size=20, gamma=0.5)\n",
        "# create 100 dummy data points and store in data loader class\n",
        "x_train = torch.tensor(train_data_x.transpose().astype('float32'))\n",
        "y_train = torch.tensor(train_data_y.astype('long')).long()\n",
        "x_val= torch.tensor(val_data_x.transpose().astype('float32'))\n",
        "y_val = torch.tensor(val_data_y.astype('long')).long()\n",
        "\n",
        "# load the data into a class that creates the batches\n",
        "data_loader = DataLoader(TensorDataset(x_train,y_train), batch_size=100, shuffle=True, worker_init_fn=np.random.seed(1))\n",
        "\n",
        "# Initialize model weights\n",
        "model.apply(weights_init)\n",
        "\n",
        "# loop over the dataset n_epoch times\n",
        "n_epoch = 100\n",
        "# store the loss and the % correct at each epoch\n",
        "losses_train = np.zeros((n_epoch))\n",
        "errors_train = np.zeros((n_epoch))\n",
        "losses_val = np.zeros((n_epoch))\n",
        "errors_val = np.zeros((n_epoch))\n",
        "\n",
        "for epoch in range(n_epoch):\n",
        "  # loop over batches\n",
        "  for i, data in enumerate(data_loader):\n",
        "    # retrieve inputs and labels for this batch\n",
        "    x_batch, y_batch = data\n",
        "    # zero the parameter gradients\n",
        "    optimizer.zero_grad()\n",
        "    # forward pass -- calculate model output\n",
        "    pred = model(x_batch[:,None,:])\n",
        "    # compute the loss\n",
        "    loss = loss_function(pred, y_batch)\n",
        "    # backward pass\n",
        "    loss.backward()\n",
        "    # SGD update\n",
        "    optimizer.step()\n",
        "\n",
        "  # Run whole dataset to get statistics -- normally wouldn't do this\n",
        "  pred_train = model(x_train[:,None,:])\n",
        "  pred_val = model(x_val[:,None,:])\n",
        "  _, predicted_train_class = torch.max(pred_train.data, 1)\n",
        "  _, predicted_val_class = torch.max(pred_val.data, 1)\n",
        "  errors_train[epoch] = 100 - 100 * (predicted_train_class == y_train).float().sum() / len(y_train)\n",
        "  errors_val[epoch]= 100 - 100 * (predicted_val_class == y_val).float().sum() / len(y_val)\n",
        "  losses_train[epoch] = loss_function(pred_train, y_train).item()\n",
        "  losses_val[epoch]= loss_function(pred_val, y_val).item()\n",
        "  print(f'Epoch {epoch:5d}, train loss {losses_train[epoch]:.6f}, train error {errors_train[epoch]:3.2f},  val loss {losses_val[epoch]:.6f}, percent error {errors_val[epoch]:3.2f}')\n",
        "\n",
        "  # tell scheduler to consider updating learning rate\n",
        "  scheduler.step()\n",
        "\n",
        "# Plot the results\n",
        "fig, ax = plt.subplots()\n",
        "ax.plot(errors_train,'r-',label='train')\n",
        "ax.plot(errors_val,'b-',label='validation')\n",
        "ax.set_ylim(0,100); ax.set_xlim(0,n_epoch)\n",
        "ax.set_xlabel('Epoch'); ax.set_ylabel('Error')\n",
        "ax.set_title('Part I: Validation Result %3.2f'%(errors_val[-1]))\n",
        "ax.legend()\n",
        "plt.show()"
      ],
      "metadata": {
        "id": "NYw8I_3mmX5c",
        "outputId": "0eff8090-eb84-4125-d177-f732a9b0bd02",
        "colab": {
          "base_uri": "https://localhost:8080/",
          "height": 1000
        }
      },
      "execution_count": 9,
      "outputs": [
        {
          "output_type": "stream",
          "name": "stdout",
          "text": [
            "Epoch     0, train loss 2.192372, train error 80.57,  val loss 2.205018, percent error 81.40\n",
            "Epoch     1, train loss 1.707807, train error 67.22,  val loss 1.727578, percent error 67.50\n",
            "Epoch     2, train loss 1.417243, train error 57.55,  val loss 1.414565, percent error 57.50\n",
            "Epoch     3, train loss 1.314785, train error 55.28,  val loss 1.322034, percent error 55.60\n",
            "Epoch     4, train loss 1.248914, train error 49.25,  val loss 1.278374, percent error 52.60\n",
            "Epoch     5, train loss 1.265354, train error 54.10,  val loss 1.276732, percent error 54.80\n",
            "Epoch     6, train loss 1.125520, train error 45.55,  val loss 1.148919, percent error 47.90\n",
            "Epoch     7, train loss 1.011103, train error 40.28,  val loss 1.027366, percent error 43.00\n",
            "Epoch     8, train loss 0.924461, train error 35.97,  val loss 0.950812, percent error 39.80\n",
            "Epoch     9, train loss 0.850847, train error 34.05,  val loss 0.905852, percent error 36.50\n",
            "Epoch    10, train loss 0.729622, train error 28.68,  val loss 0.771812, percent error 30.20\n",
            "Epoch    11, train loss 0.681076, train error 26.80,  val loss 0.743001, percent error 28.40\n",
            "Epoch    12, train loss 0.632956, train error 24.30,  val loss 0.703962, percent error 27.00\n",
            "Epoch    13, train loss 0.532173, train error 19.95,  val loss 0.606494, percent error 21.80\n",
            "Epoch    14, train loss 0.513675, train error 20.82,  val loss 0.584129, percent error 23.90\n",
            "Epoch    15, train loss 0.528446, train error 20.80,  val loss 0.605937, percent error 22.30\n",
            "Epoch    16, train loss 0.396808, train error 14.10,  val loss 0.484954, percent error 16.70\n",
            "Epoch    17, train loss 0.362902, train error 13.70,  val loss 0.460774, percent error 17.00\n",
            "Epoch    18, train loss 0.312892, train error 11.57,  val loss 0.431512, percent error 14.90\n",
            "Epoch    19, train loss 0.394976, train error 15.28,  val loss 0.523654, percent error 18.00\n",
            "Epoch    20, train loss 0.245075, train error 8.88,  val loss 0.398093, percent error 13.70\n",
            "Epoch    21, train loss 0.233907, train error 8.65,  val loss 0.392952, percent error 14.00\n",
            "Epoch    22, train loss 0.220826, train error 7.80,  val loss 0.386367, percent error 12.60\n",
            "Epoch    23, train loss 0.228894, train error 8.53,  val loss 0.429074, percent error 14.00\n",
            "Epoch    24, train loss 0.182083, train error 6.45,  val loss 0.378110, percent error 12.30\n",
            "Epoch    25, train loss 0.223339, train error 8.32,  val loss 0.414062, percent error 13.20\n",
            "Epoch    26, train loss 0.180593, train error 6.15,  val loss 0.384532, percent error 11.50\n",
            "Epoch    27, train loss 0.166738, train error 5.70,  val loss 0.378161, percent error 11.30\n",
            "Epoch    28, train loss 0.191822, train error 6.95,  val loss 0.404923, percent error 12.10\n",
            "Epoch    29, train loss 0.178810, train error 5.95,  val loss 0.396252, percent error 12.00\n",
            "Epoch    30, train loss 0.169211, train error 5.78,  val loss 0.384675, percent error 11.80\n",
            "Epoch    31, train loss 0.153691, train error 5.12,  val loss 0.386547, percent error 12.00\n",
            "Epoch    32, train loss 0.180895, train error 6.93,  val loss 0.403168, percent error 13.20\n",
            "Epoch    33, train loss 0.143773, train error 4.72,  val loss 0.369100, percent error 10.40\n",
            "Epoch    34, train loss 0.138456, train error 4.70,  val loss 0.374198, percent error 10.70\n",
            "Epoch    35, train loss 0.162625, train error 5.95,  val loss 0.428874, percent error 13.00\n",
            "Epoch    36, train loss 0.111212, train error 3.45,  val loss 0.362983, percent error 10.30\n",
            "Epoch    37, train loss 0.133248, train error 5.10,  val loss 0.416084, percent error 12.40\n",
            "Epoch    38, train loss 0.114475, train error 3.68,  val loss 0.383140, percent error 11.40\n",
            "Epoch    39, train loss 0.115450, train error 4.07,  val loss 0.387224, percent error 10.50\n",
            "Epoch    40, train loss 0.089268, train error 2.45,  val loss 0.374994, percent error 10.10\n",
            "Epoch    41, train loss 0.090330, train error 2.43,  val loss 0.378775, percent error 9.70\n",
            "Epoch    42, train loss 0.085586, train error 2.47,  val loss 0.370542, percent error 9.80\n",
            "Epoch    43, train loss 0.095284, train error 3.30,  val loss 0.405339, percent error 11.20\n",
            "Epoch    44, train loss 0.078094, train error 2.15,  val loss 0.373029, percent error 10.10\n",
            "Epoch    45, train loss 0.082569, train error 2.35,  val loss 0.385423, percent error 10.70\n",
            "Epoch    46, train loss 0.079457, train error 2.12,  val loss 0.377196, percent error 10.20\n",
            "Epoch    47, train loss 0.075231, train error 1.85,  val loss 0.381815, percent error 10.40\n",
            "Epoch    48, train loss 0.072114, train error 1.80,  val loss 0.383096, percent error 10.40\n",
            "Epoch    49, train loss 0.071780, train error 1.80,  val loss 0.399135, percent error 11.00\n",
            "Epoch    50, train loss 0.070634, train error 1.88,  val loss 0.389007, percent error 10.20\n",
            "Epoch    51, train loss 0.068092, train error 1.75,  val loss 0.400591, percent error 10.50\n",
            "Epoch    52, train loss 0.065309, train error 1.70,  val loss 0.396989, percent error 9.90\n",
            "Epoch    53, train loss 0.070371, train error 1.95,  val loss 0.402714, percent error 10.20\n",
            "Epoch    54, train loss 0.064603, train error 1.55,  val loss 0.399101, percent error 10.60\n",
            "Epoch    55, train loss 0.062356, train error 1.55,  val loss 0.398370, percent error 10.50\n",
            "Epoch    56, train loss 0.065911, train error 1.68,  val loss 0.405962, percent error 10.30\n",
            "Epoch    57, train loss 0.065981, train error 1.88,  val loss 0.415320, percent error 10.70\n",
            "Epoch    58, train loss 0.057122, train error 1.30,  val loss 0.410022, percent error 10.30\n",
            "Epoch    59, train loss 0.056203, train error 1.28,  val loss 0.407881, percent error 10.30\n",
            "Epoch    60, train loss 0.051383, train error 1.00,  val loss 0.407879, percent error 10.20\n",
            "Epoch    61, train loss 0.052767, train error 1.05,  val loss 0.403962, percent error 9.50\n",
            "Epoch    62, train loss 0.050291, train error 1.00,  val loss 0.410115, percent error 9.90\n",
            "Epoch    63, train loss 0.050021, train error 1.00,  val loss 0.415956, percent error 9.90\n",
            "Epoch    64, train loss 0.050231, train error 1.03,  val loss 0.416410, percent error 9.90\n",
            "Epoch    65, train loss 0.049452, train error 1.07,  val loss 0.415418, percent error 9.80\n",
            "Epoch    66, train loss 0.048030, train error 0.93,  val loss 0.420678, percent error 10.20\n",
            "Epoch    67, train loss 0.048193, train error 0.97,  val loss 0.424186, percent error 10.00\n",
            "Epoch    68, train loss 0.046310, train error 0.88,  val loss 0.423561, percent error 9.90\n",
            "Epoch    69, train loss 0.046927, train error 0.85,  val loss 0.424698, percent error 9.80\n",
            "Epoch    70, train loss 0.044799, train error 0.85,  val loss 0.426111, percent error 9.60\n",
            "Epoch    71, train loss 0.044396, train error 0.80,  val loss 0.427677, percent error 9.60\n",
            "Epoch    72, train loss 0.044617, train error 0.85,  val loss 0.432490, percent error 9.90\n",
            "Epoch    73, train loss 0.043590, train error 0.80,  val loss 0.428952, percent error 9.60\n",
            "Epoch    74, train loss 0.044307, train error 0.82,  val loss 0.433489, percent error 9.80\n",
            "Epoch    75, train loss 0.043642, train error 0.85,  val loss 0.438559, percent error 9.80\n",
            "Epoch    76, train loss 0.042062, train error 0.72,  val loss 0.434924, percent error 9.50\n",
            "Epoch    77, train loss 0.041476, train error 0.78,  val loss 0.438029, percent error 9.60\n",
            "Epoch    78, train loss 0.041293, train error 0.75,  val loss 0.437921, percent error 9.40\n",
            "Epoch    79, train loss 0.040439, train error 0.72,  val loss 0.441545, percent error 9.60\n",
            "Epoch    80, train loss 0.039928, train error 0.68,  val loss 0.443604, percent error 9.70\n",
            "Epoch    81, train loss 0.039440, train error 0.68,  val loss 0.444399, percent error 9.60\n",
            "Epoch    82, train loss 0.039271, train error 0.62,  val loss 0.442532, percent error 9.60\n",
            "Epoch    83, train loss 0.039080, train error 0.65,  val loss 0.443926, percent error 9.60\n",
            "Epoch    84, train loss 0.039597, train error 0.72,  val loss 0.447851, percent error 9.80\n",
            "Epoch    85, train loss 0.038719, train error 0.65,  val loss 0.443197, percent error 9.40\n",
            "Epoch    86, train loss 0.038295, train error 0.60,  val loss 0.448100, percent error 9.60\n",
            "Epoch    87, train loss 0.038178, train error 0.60,  val loss 0.449908, percent error 9.50\n",
            "Epoch    88, train loss 0.038025, train error 0.57,  val loss 0.447420, percent error 9.50\n",
            "Epoch    89, train loss 0.038334, train error 0.68,  val loss 0.456878, percent error 9.70\n",
            "Epoch    90, train loss 0.039365, train error 0.72,  val loss 0.454865, percent error 9.90\n",
            "Epoch    91, train loss 0.039012, train error 0.70,  val loss 0.452662, percent error 9.70\n",
            "Epoch    92, train loss 0.037894, train error 0.65,  val loss 0.452043, percent error 9.50\n",
            "Epoch    93, train loss 0.036975, train error 0.55,  val loss 0.451432, percent error 9.30\n",
            "Epoch    94, train loss 0.036808, train error 0.55,  val loss 0.453281, percent error 9.40\n",
            "Epoch    95, train loss 0.036417, train error 0.53,  val loss 0.453893, percent error 9.70\n",
            "Epoch    96, train loss 0.036617, train error 0.57,  val loss 0.453637, percent error 9.70\n",
            "Epoch    97, train loss 0.036600, train error 0.60,  val loss 0.457253, percent error 9.40\n",
            "Epoch    98, train loss 0.036340, train error 0.60,  val loss 0.459061, percent error 9.70\n",
            "Epoch    99, train loss 0.035979, train error 0.68,  val loss 0.459180, percent error 9.70\n"
          ]
        },
        {
          "output_type": "display_data",
          "data": {
            "text/plain": [
              "<Figure size 640x480 with 1 Axes>"
            ],
            "image/png": "[encoded data removed]"
          },
          "metadata": {}
        }
      ]
    }
  ]
}