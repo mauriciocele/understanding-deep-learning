{
  "nbformat": 4,
  "nbformat_minor": 0,
  "metadata": {
    "colab": {
      "provenance": [],
      "include_colab_link": true
    },
    "kernelspec": {
      "name": "python3",
      "display_name": "Python 3"
    },
    "language_info": {
      "name": "python"
    }
  },
  "cells": [
    {
      "cell_type": "markdown",
      "metadata": {
        "id": "view-in-github",
        "colab_type": "text"
      },
      "source": [
        "<a href=\"https://colab.research.google.com/github/mauriciocele/understanding-deep-learning/blob/main/Notebooks/Chap11/11_2_Residual_Networks.ipynb\" target=\"_parent\"><img src=\"https://colab.research.google.com/assets/colab-badge.svg\" alt=\"Open In Colab\"/></a>"
      ]
    },
    {
      "cell_type": "markdown",
      "source": [
        "# **Notebook 11.2: Residual Networks**\n",
        "\n",
        "This notebook adapts the networks for MNIST1D to use residual connections.\n",
        "\n",
        "Work through the cells below, running each cell in turn. In various places you will see the words \"TODO\". Follow the instructions at these places and make predictions about what is going to happen or write code to complete the functions.\n",
        "\n",
        "Contact me at udlbookmail@gmail.com if you find any mistakes or have any suggestions.\n",
        "\n"
      ],
      "metadata": {
        "id": "t9vk9Elugvmi"
      }
    },
    {
      "cell_type": "code",
      "source": [
        "# Run this if you're in a Colab to install MNIST 1D repository\n",
        "!pip install git+https://github.com/greydanus/mnist1d"
      ],
      "metadata": {
        "id": "D5yLObtZCi9J",
        "outputId": "2c080e16-3c86-4126-bba7-7decc4183f5e",
        "colab": {
          "base_uri": "https://localhost:8080/"
        }
      },
      "execution_count": 1,
      "outputs": [
        {
          "output_type": "stream",
          "name": "stdout",
          "text": [
            "Collecting git+https://github.com/greydanus/mnist1d\n",
            "  Cloning https://github.com/greydanus/mnist1d to /tmp/pip-req-build-44z8ul2c\n",
            "  Running command git clone --filter=blob:none --quiet https://github.com/greydanus/mnist1d /tmp/pip-req-build-44z8ul2c\n",
            "  Resolved https://github.com/greydanus/mnist1d to commit 7878d96082abd200c546a07a4101fa90b30fdf7e\n",
            "  Installing build dependencies ... \u001b[?25l\u001b[?25hdone\n",
            "  Getting requirements to build wheel ... \u001b[?25l\u001b[?25hdone\n",
            "  Preparing metadata (pyproject.toml) ... \u001b[?25l\u001b[?25hdone\n",
            "Requirement already satisfied: requests in /usr/local/lib/python3.11/dist-packages (from mnist1d==0.0.2.post16) (2.32.3)\n",
            "Requirement already satisfied: numpy in /usr/local/lib/python3.11/dist-packages (from mnist1d==0.0.2.post16) (2.0.2)\n",
            "Requirement already satisfied: matplotlib in /usr/local/lib/python3.11/dist-packages (from mnist1d==0.0.2.post16) (3.10.0)\n",
            "Requirement already satisfied: scipy in /usr/local/lib/python3.11/dist-packages (from mnist1d==0.0.2.post16) (1.15.3)\n",
            "Requirement already satisfied: contourpy>=1.0.1 in /usr/local/lib/python3.11/dist-packages (from matplotlib->mnist1d==0.0.2.post16) (1.3.2)\n",
            "Requirement already satisfied: cycler>=0.10 in /usr/local/lib/python3.11/dist-packages (from matplotlib->mnist1d==0.0.2.post16) (0.12.1)\n",
            "Requirement already satisfied: fonttools>=4.22.0 in /usr/local/lib/python3.11/dist-packages (from matplotlib->mnist1d==0.0.2.post16) (4.58.5)\n",
            "Requirement already satisfied: kiwisolver>=1.3.1 in /usr/local/lib/python3.11/dist-packages (from matplotlib->mnist1d==0.0.2.post16) (1.4.8)\n",
            "Requirement already satisfied: packaging>=20.0 in /usr/local/lib/python3.11/dist-packages (from matplotlib->mnist1d==0.0.2.post16) (25.0)\n",
            "Requirement already satisfied: pillow>=8 in /usr/local/lib/python3.11/dist-packages (from matplotlib->mnist1d==0.0.2.post16) (11.2.1)\n",
            "Requirement already satisfied: pyparsing>=2.3.1 in /usr/local/lib/python3.11/dist-packages (from matplotlib->mnist1d==0.0.2.post16) (3.2.3)\n",
            "Requirement already satisfied: python-dateutil>=2.7 in /usr/local/lib/python3.11/dist-packages (from matplotlib->mnist1d==0.0.2.post16) (2.9.0.post0)\n",
            "Requirement already satisfied: charset-normalizer<4,>=2 in /usr/local/lib/python3.11/dist-packages (from requests->mnist1d==0.0.2.post16) (3.4.2)\n",
            "Requirement already satisfied: idna<4,>=2.5 in /usr/local/lib/python3.11/dist-packages (from requests->mnist1d==0.0.2.post16) (3.10)\n",
            "Requirement already satisfied: urllib3<3,>=1.21.1 in /usr/local/lib/python3.11/dist-packages (from requests->mnist1d==0.0.2.post16) (2.4.0)\n",
            "Requirement already satisfied: certifi>=2017.4.17 in /usr/local/lib/python3.11/dist-packages (from requests->mnist1d==0.0.2.post16) (2025.7.14)\n",
            "Requirement already satisfied: six>=1.5 in /usr/local/lib/python3.11/dist-packages (from python-dateutil>=2.7->matplotlib->mnist1d==0.0.2.post16) (1.17.0)\n",
            "Building wheels for collected packages: mnist1d\n",
            "  Building wheel for mnist1d (pyproject.toml) ... \u001b[?25l\u001b[?25hdone\n",
            "  Created wheel for mnist1d: filename=mnist1d-0.0.2.post16-py3-none-any.whl size=14665 sha256=3d6e9b5cbfcbeae3510671d15826724ba8dd82aa0713256068c73b0be5b252d4\n",
            "  Stored in directory: /tmp/pip-ephem-wheel-cache-58tzvmpf/wheels/d6/38/42/3d2112bc7d915f6195254ac85eb761d922d1b18f52817aa8e2\n",
            "Successfully built mnist1d\n",
            "Installing collected packages: mnist1d\n",
            "Successfully installed mnist1d-0.0.2.post16\n"
          ]
        }
      ]
    },
    {
      "cell_type": "code",
      "source": [
        "import numpy as np\n",
        "import os\n",
        "import torch, torch.nn as nn\n",
        "from torch.utils.data import TensorDataset, DataLoader\n",
        "from torch.optim.lr_scheduler import StepLR\n",
        "import matplotlib.pyplot as plt\n",
        "import mnist1d\n",
        "import random"
      ],
      "metadata": {
        "id": "YrXWAH7sUWvU"
      },
      "execution_count": 2,
      "outputs": []
    },
    {
      "cell_type": "code",
      "source": [
        "args = mnist1d.data.get_dataset_args()\n",
        "data = mnist1d.data.get_dataset(args, path='./mnist1d_data.pkl', download=False, regenerate=False)\n",
        "\n",
        "# The training and test input and outputs are in\n",
        "# data['x'], data['y'], data['x_test'], and data['y_test']\n",
        "print(\"Examples in training set: {}\".format(len(data['y'])))\n",
        "print(\"Examples in test set: {}\".format(len(data['y_test'])))\n",
        "print(\"Length of each example: {}\".format(data['x'].shape[-1]))"
      ],
      "metadata": {
        "id": "twI72ZCrCt5z",
        "outputId": "9ef3ee67-b3ef-42c6-9959-0565d9e9463c",
        "colab": {
          "base_uri": "https://localhost:8080/"
        }
      },
      "execution_count": 3,
      "outputs": [
        {
          "output_type": "stream",
          "name": "stdout",
          "text": [
            "Did or could not load data from ./mnist1d_data.pkl. Rebuilding dataset...\n",
            "Examples in training set: 4000\n",
            "Examples in test set: 1000\n",
            "Length of each example: 40\n"
          ]
        }
      ]
    },
    {
      "cell_type": "code",
      "source": [
        "# Load in the data\n",
        "train_data_x = data['x'].transpose()\n",
        "train_data_y = data['y']\n",
        "val_data_x = data['x_test'].transpose()\n",
        "val_data_y = data['y_test']\n",
        "# Print out sizes\n",
        "print(\"Train data: %d examples (columns), each of which has %d dimensions (rows)\"%((train_data_x.shape[1],train_data_x.shape[0])))\n",
        "print(\"Validation data: %d examples (columns), each of which has %d dimensions (rows)\"%((val_data_x.shape[1],val_data_x.shape[0])))"
      ],
      "metadata": {
        "id": "8bKADvLHbiV5",
        "outputId": "880e3360-269f-4be7-96d7-c6fab678d49b",
        "colab": {
          "base_uri": "https://localhost:8080/"
        }
      },
      "execution_count": 4,
      "outputs": [
        {
          "output_type": "stream",
          "name": "stdout",
          "text": [
            "Train data: 4000 examples (columns), each of which has 40 dimensions (rows)\n",
            "Validation data: 1000 examples (columns), each of which has 40 dimensions (rows)\n"
          ]
        }
      ]
    },
    {
      "cell_type": "markdown",
      "source": [
        "Define the network"
      ],
      "metadata": {
        "id": "_sFvRDGrl4qe"
      }
    },
    {
      "cell_type": "code",
      "source": [
        "# There are 40 input dimensions and 10 output dimensions for this data\n",
        "# The inputs correspond to the 40 offsets in the MNIST1D template.\n",
        "D_i = 40\n",
        "# The outputs correspond to the 10 digits\n",
        "D_o = 10\n",
        "\n",
        "\n",
        "# We will adapt this model to have residual connections around the linear layers\n",
        "# This is the same model we used in practical 8.1, but we can't use the sequential\n",
        "# class for residual networks (which aren't strictly sequential).  Hence, I've rewritten\n",
        "# it as a model that inherits from a base class\n",
        "\n",
        "class ResidualNetwork(torch.nn.Module):\n",
        "  def __init__(self, input_size, output_size, hidden_size=100):\n",
        "    super(ResidualNetwork, self).__init__()\n",
        "    self.linear1 = nn.Linear(input_size, hidden_size)\n",
        "    self.linear2 = nn.Linear(hidden_size, hidden_size)\n",
        "    self.linear3 = nn.Linear(hidden_size, hidden_size)\n",
        "    self.linear4 = nn.Linear(hidden_size, output_size)\n",
        "    print(\"Initialized MLPBase model with {} parameters\".format(self.count_params()))\n",
        "\n",
        "  def count_params(self):\n",
        "    return sum([p.view(-1).shape[0] for p in self.parameters()])\n",
        "\n",
        "# TODO -- Add residual connections to this model\n",
        "# The order of operations within each block should similar to figure 11.5b\n",
        "# ie., linear1 first, ReLU+linear2 in first residual block, ReLU+linear3 in second residual block), linear4 at end\n",
        "# Replace this function\n",
        "  def forward(self, x):\n",
        "    #h1 = self.linear1(x).relu()\n",
        "    #h2 = self.linear2(h1).relu()\n",
        "    #h3 = self.linear3(h2).relu()\n",
        "    #return self.linear4(h3)\n",
        "\n",
        "    h1 = self.linear1(x)\n",
        "    h2 = self.linear2(h1.relu())\n",
        "    h2 += h1\n",
        "    h3 = self.linear3(h2.relu())\n",
        "    h3 += h2\n",
        "    return self.linear4(h3)\n"
      ],
      "metadata": {
        "id": "FslroPJJffrh"
      },
      "execution_count": 31,
      "outputs": []
    },
    {
      "cell_type": "code",
      "source": [
        "# He initialization of weights\n",
        "def weights_init(layer_in):\n",
        "  if isinstance(layer_in, nn.Linear):\n",
        "    nn.init.kaiming_uniform_(layer_in.weight)\n",
        "    layer_in.bias.data.fill_(0.0)"
      ],
      "metadata": {
        "id": "YgLaex1pfhqz"
      },
      "execution_count": 19,
      "outputs": []
    },
    {
      "cell_type": "code",
      "source": [
        "#Define the model\n",
        "model = ResidualNetwork(40, 10)\n",
        "\n",
        "# choose cross entropy loss function (equation 5.24 in the loss notes)\n",
        "loss_function = nn.CrossEntropyLoss()\n",
        "# construct SGD optimizer and initialize learning rate and momentum\n",
        "optimizer = torch.optim.SGD(model.parameters(), lr = 0.05, momentum=0.9)\n",
        "# object that decreases learning rate by half every 20 epochs\n",
        "scheduler = StepLR(optimizer, step_size=20, gamma=0.5)\n",
        "# convert data to torch tensors\n",
        "x_train = torch.tensor(train_data_x.transpose().astype('float32'))\n",
        "y_train = torch.tensor(train_data_y.astype('long'))\n",
        "x_val= torch.tensor(val_data_x.transpose().astype('float32'))\n",
        "y_val = torch.tensor(val_data_y.astype('long'))\n",
        "\n",
        "# load the data into a class that creates the batches\n",
        "data_loader = DataLoader(TensorDataset(x_train,y_train), batch_size=100, shuffle=True, worker_init_fn=np.random.seed(1))\n",
        "\n",
        "# Initialize model weights\n",
        "model.apply(weights_init)\n",
        "\n",
        "# loop over the dataset n_epoch times\n",
        "n_epoch = 100\n",
        "# store the loss and the % correct at each epoch\n",
        "losses_train = np.zeros((n_epoch))\n",
        "errors_train = np.zeros((n_epoch))\n",
        "losses_val = np.zeros((n_epoch))\n",
        "errors_val = np.zeros((n_epoch))\n",
        "\n",
        "for epoch in range(n_epoch):\n",
        "  # loop over batches\n",
        "  for i, data in enumerate(data_loader):\n",
        "    # retrieve inputs and labels for this batch\n",
        "    x_batch, y_batch = data\n",
        "    # zero the parameter gradients\n",
        "    optimizer.zero_grad()\n",
        "    # forward pass -- calculate model output\n",
        "    pred = model(x_batch)\n",
        "    # compute the loss\n",
        "    loss = loss_function(pred, y_batch)\n",
        "    # backward pass\n",
        "    loss.backward()\n",
        "    # SGD update\n",
        "    optimizer.step()\n",
        "\n",
        "  # Run whole dataset to get statistics -- normally wouldn't do this\n",
        "  pred_train = model(x_train)\n",
        "  pred_val = model(x_val)\n",
        "  _, predicted_train_class = torch.max(pred_train.data, 1)\n",
        "  _, predicted_val_class = torch.max(pred_val.data, 1)\n",
        "  errors_train[epoch] = 100 - 100 * (predicted_train_class == y_train).float().sum() / len(y_train)\n",
        "  errors_val[epoch]= 100 - 100 * (predicted_val_class == y_val).float().sum() / len(y_val)\n",
        "  losses_train[epoch] = loss_function(pred_train, y_train).item()\n",
        "  losses_val[epoch]= loss_function(pred_val, y_val).item()\n",
        "  print(f'Epoch {epoch:5d}, train loss {losses_train[epoch]:.6f}, train error {errors_train[epoch]:3.2f},  val loss {losses_val[epoch]:.6f}, percent error {errors_val[epoch]:3.2f}')\n",
        "\n",
        "  # tell scheduler to consider updating learning rate\n",
        "  scheduler.step()"
      ],
      "metadata": {
        "id": "NYw8I_3mmX5c",
        "outputId": "c7c75ca9-b288-4f14-8c5d-75331ab2eb4f",
        "colab": {
          "base_uri": "https://localhost:8080/"
        }
      },
      "execution_count": 32,
      "outputs": [
        {
          "output_type": "stream",
          "name": "stdout",
          "text": [
            "Initialized MLPBase model with 25310 parameters\n",
            "Epoch     0, train loss 1.620751, train error 60.08,  val loss 1.731031, percent error 63.10\n",
            "Epoch     1, train loss 1.134206, train error 42.92,  val loss 1.293320, percent error 51.00\n",
            "Epoch     2, train loss 1.037678, train error 39.30,  val loss 1.225321, percent error 47.90\n",
            "Epoch     3, train loss 0.929379, train error 34.72,  val loss 1.254600, percent error 46.60\n",
            "Epoch     4, train loss 0.821119, train error 31.93,  val loss 1.249866, percent error 46.70\n",
            "Epoch     5, train loss 0.715098, train error 26.00,  val loss 1.141363, percent error 41.30\n",
            "Epoch     6, train loss 0.682539, train error 25.45,  val loss 1.171738, percent error 41.00\n",
            "Epoch     7, train loss 0.615556, train error 23.18,  val loss 1.207633, percent error 40.60\n",
            "Epoch     8, train loss 0.513736, train error 18.85,  val loss 1.113497, percent error 37.90\n",
            "Epoch     9, train loss 0.452994, train error 16.90,  val loss 1.121820, percent error 38.30\n",
            "Epoch    10, train loss 0.438540, train error 15.90,  val loss 1.195388, percent error 37.40\n",
            "Epoch    11, train loss 0.458212, train error 17.12,  val loss 1.292287, percent error 38.10\n",
            "Epoch    12, train loss 0.456586, train error 17.00,  val loss 1.379411, percent error 39.90\n",
            "Epoch    13, train loss 0.462073, train error 16.78,  val loss 1.408701, percent error 39.20\n",
            "Epoch    14, train loss 0.361292, train error 13.10,  val loss 1.319176, percent error 36.70\n",
            "Epoch    15, train loss 0.297564, train error 11.32,  val loss 1.256566, percent error 34.90\n",
            "Epoch    16, train loss 0.269472, train error 9.97,  val loss 1.354588, percent error 35.10\n",
            "Epoch    17, train loss 0.303116, train error 10.53,  val loss 1.493807, percent error 36.00\n",
            "Epoch    18, train loss 0.278709, train error 9.72,  val loss 1.445496, percent error 36.10\n",
            "Epoch    19, train loss 0.316951, train error 10.93,  val loss 1.503778, percent error 35.30\n",
            "Epoch    20, train loss 0.073008, train error 1.60,  val loss 1.196369, percent error 31.20\n",
            "Epoch    21, train loss 0.037894, train error 0.47,  val loss 1.216351, percent error 28.90\n",
            "Epoch    22, train loss 0.023620, train error 0.10,  val loss 1.248180, percent error 29.90\n",
            "Epoch    23, train loss 0.017138, train error 0.00,  val loss 1.285838, percent error 30.30\n",
            "Epoch    24, train loss 0.013651, train error 0.00,  val loss 1.331152, percent error 30.10\n",
            "Epoch    25, train loss 0.011028, train error 0.00,  val loss 1.351030, percent error 30.60\n",
            "Epoch    26, train loss 0.009556, train error 0.00,  val loss 1.383207, percent error 30.40\n",
            "Epoch    27, train loss 0.008421, train error 0.00,  val loss 1.400543, percent error 30.50\n",
            "Epoch    28, train loss 0.007508, train error 0.00,  val loss 1.421843, percent error 30.70\n",
            "Epoch    29, train loss 0.006823, train error 0.00,  val loss 1.442244, percent error 30.90\n",
            "Epoch    30, train loss 0.006250, train error 0.00,  val loss 1.460262, percent error 30.50\n",
            "Epoch    31, train loss 0.005703, train error 0.00,  val loss 1.473937, percent error 30.50\n",
            "Epoch    32, train loss 0.005278, train error 0.00,  val loss 1.494483, percent error 30.50\n",
            "Epoch    33, train loss 0.004890, train error 0.00,  val loss 1.506888, percent error 30.80\n",
            "Epoch    34, train loss 0.004573, train error 0.00,  val loss 1.521055, percent error 30.50\n",
            "Epoch    35, train loss 0.004294, train error 0.00,  val loss 1.534943, percent error 30.80\n",
            "Epoch    36, train loss 0.004031, train error 0.00,  val loss 1.544325, percent error 30.50\n",
            "Epoch    37, train loss 0.003831, train error 0.00,  val loss 1.558736, percent error 30.90\n",
            "Epoch    38, train loss 0.003607, train error 0.00,  val loss 1.569353, percent error 30.20\n",
            "Epoch    39, train loss 0.003433, train error 0.00,  val loss 1.578332, percent error 30.40\n",
            "Epoch    40, train loss 0.003335, train error 0.00,  val loss 1.583974, percent error 30.60\n",
            "Epoch    41, train loss 0.003257, train error 0.00,  val loss 1.588473, percent error 30.30\n",
            "Epoch    42, train loss 0.003181, train error 0.00,  val loss 1.593132, percent error 30.40\n",
            "Epoch    43, train loss 0.003110, train error 0.00,  val loss 1.598291, percent error 30.30\n",
            "Epoch    44, train loss 0.003043, train error 0.00,  val loss 1.603268, percent error 30.40\n",
            "Epoch    45, train loss 0.002976, train error 0.00,  val loss 1.608865, percent error 30.20\n",
            "Epoch    46, train loss 0.002912, train error 0.00,  val loss 1.611457, percent error 30.20\n",
            "Epoch    47, train loss 0.002852, train error 0.00,  val loss 1.617409, percent error 30.30\n",
            "Epoch    48, train loss 0.002794, train error 0.00,  val loss 1.622093, percent error 30.20\n",
            "Epoch    49, train loss 0.002738, train error 0.00,  val loss 1.626325, percent error 30.20\n",
            "Epoch    50, train loss 0.002684, train error 0.00,  val loss 1.630670, percent error 30.20\n",
            "Epoch    51, train loss 0.002632, train error 0.00,  val loss 1.634020, percent error 30.50\n",
            "Epoch    52, train loss 0.002582, train error 0.00,  val loss 1.638665, percent error 30.20\n",
            "Epoch    53, train loss 0.002533, train error 0.00,  val loss 1.642739, percent error 30.30\n",
            "Epoch    54, train loss 0.002487, train error 0.00,  val loss 1.646391, percent error 30.30\n",
            "Epoch    55, train loss 0.002442, train error 0.00,  val loss 1.650957, percent error 30.30\n",
            "Epoch    56, train loss 0.002398, train error 0.00,  val loss 1.654791, percent error 30.30\n",
            "Epoch    57, train loss 0.002357, train error 0.00,  val loss 1.658548, percent error 30.40\n",
            "Epoch    58, train loss 0.002316, train error 0.00,  val loss 1.662666, percent error 30.20\n",
            "Epoch    59, train loss 0.002276, train error 0.00,  val loss 1.665365, percent error 30.30\n",
            "Epoch    60, train loss 0.002256, train error 0.00,  val loss 1.667380, percent error 30.40\n",
            "Epoch    61, train loss 0.002237, train error 0.00,  val loss 1.669092, percent error 30.30\n",
            "Epoch    62, train loss 0.002219, train error 0.00,  val loss 1.671065, percent error 30.40\n",
            "Epoch    63, train loss 0.002201, train error 0.00,  val loss 1.672899, percent error 30.40\n",
            "Epoch    64, train loss 0.002183, train error 0.00,  val loss 1.674609, percent error 30.30\n",
            "Epoch    65, train loss 0.002165, train error 0.00,  val loss 1.676462, percent error 30.30\n",
            "Epoch    66, train loss 0.002148, train error 0.00,  val loss 1.678105, percent error 30.30\n",
            "Epoch    67, train loss 0.002130, train error 0.00,  val loss 1.679910, percent error 30.30\n",
            "Epoch    68, train loss 0.002114, train error 0.00,  val loss 1.681589, percent error 30.40\n",
            "Epoch    69, train loss 0.002097, train error 0.00,  val loss 1.683449, percent error 30.30\n",
            "Epoch    70, train loss 0.002081, train error 0.00,  val loss 1.684768, percent error 30.30\n",
            "Epoch    71, train loss 0.002065, train error 0.00,  val loss 1.686932, percent error 30.30\n",
            "Epoch    72, train loss 0.002049, train error 0.00,  val loss 1.688250, percent error 30.30\n",
            "Epoch    73, train loss 0.002033, train error 0.00,  val loss 1.689941, percent error 30.30\n",
            "Epoch    74, train loss 0.002017, train error 0.00,  val loss 1.691552, percent error 30.30\n",
            "Epoch    75, train loss 0.002002, train error 0.00,  val loss 1.693160, percent error 30.40\n",
            "Epoch    76, train loss 0.001987, train error 0.00,  val loss 1.694950, percent error 30.40\n",
            "Epoch    77, train loss 0.001972, train error 0.00,  val loss 1.696916, percent error 30.30\n",
            "Epoch    78, train loss 0.001958, train error 0.00,  val loss 1.698156, percent error 30.30\n",
            "Epoch    79, train loss 0.001944, train error 0.00,  val loss 1.700001, percent error 30.30\n",
            "Epoch    80, train loss 0.001936, train error 0.00,  val loss 1.700873, percent error 30.40\n",
            "Epoch    81, train loss 0.001929, train error 0.00,  val loss 1.701502, percent error 30.40\n",
            "Epoch    82, train loss 0.001922, train error 0.00,  val loss 1.702485, percent error 30.30\n",
            "Epoch    83, train loss 0.001915, train error 0.00,  val loss 1.703412, percent error 30.30\n",
            "Epoch    84, train loss 0.001908, train error 0.00,  val loss 1.704032, percent error 30.30\n",
            "Epoch    85, train loss 0.001901, train error 0.00,  val loss 1.704910, percent error 30.30\n",
            "Epoch    86, train loss 0.001895, train error 0.00,  val loss 1.705550, percent error 30.30\n",
            "Epoch    87, train loss 0.001888, train error 0.00,  val loss 1.706502, percent error 30.30\n",
            "Epoch    88, train loss 0.001881, train error 0.00,  val loss 1.707185, percent error 30.30\n",
            "Epoch    89, train loss 0.001874, train error 0.00,  val loss 1.708003, percent error 30.30\n",
            "Epoch    90, train loss 0.001868, train error 0.00,  val loss 1.708760, percent error 30.30\n",
            "Epoch    91, train loss 0.001861, train error 0.00,  val loss 1.709628, percent error 30.30\n",
            "Epoch    92, train loss 0.001855, train error 0.00,  val loss 1.710366, percent error 30.30\n",
            "Epoch    93, train loss 0.001848, train error 0.00,  val loss 1.711187, percent error 30.30\n",
            "Epoch    94, train loss 0.001842, train error 0.00,  val loss 1.711845, percent error 30.30\n",
            "Epoch    95, train loss 0.001835, train error 0.00,  val loss 1.712664, percent error 30.30\n",
            "Epoch    96, train loss 0.001829, train error 0.00,  val loss 1.713449, percent error 30.30\n",
            "Epoch    97, train loss 0.001822, train error 0.00,  val loss 1.714362, percent error 30.30\n",
            "Epoch    98, train loss 0.001816, train error 0.00,  val loss 1.715119, percent error 30.30\n",
            "Epoch    99, train loss 0.001810, train error 0.00,  val loss 1.715818, percent error 30.30\n"
          ]
        }
      ]
    },
    {
      "cell_type": "code",
      "source": [
        "# Plot the results\n",
        "fig, ax = plt.subplots()\n",
        "ax.plot(errors_train,'r-',label='train')\n",
        "ax.plot(errors_val,'b-',label='test')\n",
        "ax.set_ylim(0,100); ax.set_xlim(0,n_epoch)\n",
        "ax.set_xlabel('Epoch'); ax.set_ylabel('Error')\n",
        "ax.set_title('TrainError %3.2f, Val Error %3.2f'%(errors_train[-1],errors_val[-1]))\n",
        "ax.legend()\n",
        "plt.show()"
      ],
      "metadata": {
        "id": "CcP_VyEmE2sv",
        "outputId": "60244250-2a7e-4767-d898-a9563186fb80",
        "colab": {
          "base_uri": "https://localhost:8080/",
          "height": 472
        }
      },
      "execution_count": 33,
      "outputs": [
        {
          "output_type": "display_data",
          "data": {
            "text/plain": [
              "<Figure size 640x480 with 1 Axes>"
            ],
            "image/png": "[encoded data removed]"
          },
          "metadata": {}
        }
      ]
    },
    {
      "cell_type": "markdown",
      "source": [
        "The primary motivation of residual networks is to allow training of much deeper networks.   \n",
        "\n",
        "TODO: Try running this network with and without the residual connections.  Does adding the residual connections change the performance?"
      ],
      "metadata": {
        "id": "wMmqhmxuAx0M"
      }
    }
  ]
}